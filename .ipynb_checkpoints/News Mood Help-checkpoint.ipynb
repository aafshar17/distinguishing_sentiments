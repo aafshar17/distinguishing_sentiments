{
 "cells": [
  {
   "cell_type": "code",
   "execution_count": 2,
   "metadata": {},
   "outputs": [],
   "source": [
    "# '''\n",
    "# pol_score = {}\n",
    "# for these users in target_user:\n",
    "#     public_tweets = api.user_timeline(user, page=x)\n",
    "#     pol_list = []\n",
    "#     for tweet in public_tweets:\n",
    "#             compound = analyzer.polarity_scores(tweet[\"text\"])[\"compound\"]\n",
    "#             pos = analyzer.polarity_scores(tweet[\"text\"])[\"pos\"]\n",
    "#             neu = analyzer.polarity_scores(tweet[\"text\"])[\"neu\"]\n",
    "#             neg = analyzer.polarity_scores(tweet[\"text\"])[\"neg\"]\n",
    "            \n",
    "#             pol_list.append(compound).....pol_list.append(neg) \n",
    "#             print(pol_list) #list of lists [[compound],[neu],...[neg]]\n",
    "#             pol_score[user] = pol_list\n",
    "            \n",
    "# pol_score_mean = {}\n",
    "# for key, val in pol_score_mean.items():\n",
    "    \n",
    "# '''  "
   ]
  },
  {
   "cell_type": "code",
   "execution_count": null,
   "metadata": {},
   "outputs": [],
   "source": [
    "#     Store the Average Sentiments\n",
    "#     sentiment = {\"User\": user, \n",
    "#                 \"Compound\": np.mean(news_sources_dictionary['compound'])}\n",
    "        \n",
    "#         Print the Sentiments\n",
    "#         print(sentiment)\n",
    "#         all_sentiments.append(sentiment)\n",
    "#         print(\"\")"
   ]
  }
 ],
 "metadata": {
  "kernelspec": {
   "display_name": "Python 3",
   "language": "python",
   "name": "python3"
  },
  "language_info": {
   "codemirror_mode": {
    "name": "ipython",
    "version": 3
   },
   "file_extension": ".py",
   "mimetype": "text/x-python",
   "name": "python",
   "nbconvert_exporter": "python",
   "pygments_lexer": "ipython3",
   "version": "3.6.4"
  }
 },
 "nbformat": 4,
 "nbformat_minor": 2
}
